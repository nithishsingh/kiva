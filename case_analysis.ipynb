{
 "cells": [
  {
   "cell_type": "code",
   "execution_count": 2,
   "metadata": {},
   "outputs": [],
   "source": [
    "# Import necessary libraries\n",
    "import pandas as pd              # For data manipulation and analysis\n",
    "import plotly.express as px      # For interactive and expressive plots\n",
    "import plotly.graph_objects as go  # For advanced plotly graphing capabilities\n",
    "from dash import Dash, html, dcc  # For creating web-based dashboards\n",
    "from dash.dependencies import Input, Output  # For defining callback functions\n"
   ]
  },
  {
   "cell_type": "code",
   "execution_count": 3,
   "metadata": {},
   "outputs": [
    {
     "data": {
      "text/html": [
       "<div>\n",
       "<style scoped>\n",
       "    .dataframe tbody tr th:only-of-type {\n",
       "        vertical-align: middle;\n",
       "    }\n",
       "\n",
       "    .dataframe tbody tr th {\n",
       "        vertical-align: top;\n",
       "    }\n",
       "\n",
       "    .dataframe thead th {\n",
       "        text-align: right;\n",
       "    }\n",
       "</style>\n",
       "<table border=\"1\" class=\"dataframe\">\n",
       "  <thead>\n",
       "    <tr style=\"text-align: right;\">\n",
       "      <th></th>\n",
       "      <th>id</th>\n",
       "      <th>funded_amount</th>\n",
       "      <th>loan_amount</th>\n",
       "      <th>activity</th>\n",
       "      <th>sector</th>\n",
       "      <th>use</th>\n",
       "      <th>country_code</th>\n",
       "      <th>country</th>\n",
       "      <th>region</th>\n",
       "      <th>currency</th>\n",
       "      <th>partner_id</th>\n",
       "      <th>posted_time</th>\n",
       "      <th>disbursed_time</th>\n",
       "      <th>funded_time</th>\n",
       "      <th>term_in_months</th>\n",
       "      <th>lender_count</th>\n",
       "      <th>tags</th>\n",
       "      <th>borrower_genders</th>\n",
       "      <th>repayment_interval</th>\n",
       "      <th>date</th>\n",
       "    </tr>\n",
       "  </thead>\n",
       "  <tbody>\n",
       "    <tr>\n",
       "      <th>0</th>\n",
       "      <td>653051</td>\n",
       "      <td>300.0</td>\n",
       "      <td>300.0</td>\n",
       "      <td>Fruits &amp; Vegetables</td>\n",
       "      <td>Food</td>\n",
       "      <td>To buy seasonal, fresh fruits to sell.</td>\n",
       "      <td>PK</td>\n",
       "      <td>Pakistan</td>\n",
       "      <td>Lahore</td>\n",
       "      <td>PKR</td>\n",
       "      <td>247.0</td>\n",
       "      <td>2014-01-01 06:12:39+00:00</td>\n",
       "      <td>2013-12-17 08:00:00+00:00</td>\n",
       "      <td>2014-01-02 10:06:32+00:00</td>\n",
       "      <td>12.0</td>\n",
       "      <td>12</td>\n",
       "      <td>NaN</td>\n",
       "      <td>female</td>\n",
       "      <td>irregular</td>\n",
       "      <td>2014-01-01</td>\n",
       "    </tr>\n",
       "    <tr>\n",
       "      <th>1</th>\n",
       "      <td>653053</td>\n",
       "      <td>575.0</td>\n",
       "      <td>575.0</td>\n",
       "      <td>Rickshaw</td>\n",
       "      <td>Transportation</td>\n",
       "      <td>to repair and maintain the auto rickshaw used ...</td>\n",
       "      <td>PK</td>\n",
       "      <td>Pakistan</td>\n",
       "      <td>Lahore</td>\n",
       "      <td>PKR</td>\n",
       "      <td>247.0</td>\n",
       "      <td>2014-01-01 06:51:08+00:00</td>\n",
       "      <td>2013-12-17 08:00:00+00:00</td>\n",
       "      <td>2014-01-02 09:17:23+00:00</td>\n",
       "      <td>11.0</td>\n",
       "      <td>14</td>\n",
       "      <td>NaN</td>\n",
       "      <td>female, female</td>\n",
       "      <td>irregular</td>\n",
       "      <td>2014-01-01</td>\n",
       "    </tr>\n",
       "    <tr>\n",
       "      <th>2</th>\n",
       "      <td>653068</td>\n",
       "      <td>150.0</td>\n",
       "      <td>150.0</td>\n",
       "      <td>Transportation</td>\n",
       "      <td>Transportation</td>\n",
       "      <td>To repair their old cycle-van and buy another ...</td>\n",
       "      <td>IN</td>\n",
       "      <td>India</td>\n",
       "      <td>Maynaguri</td>\n",
       "      <td>INR</td>\n",
       "      <td>334.0</td>\n",
       "      <td>2014-01-01 09:58:07+00:00</td>\n",
       "      <td>2013-12-17 08:00:00+00:00</td>\n",
       "      <td>2014-01-01 16:01:36+00:00</td>\n",
       "      <td>43.0</td>\n",
       "      <td>6</td>\n",
       "      <td>user_favorite, user_favorite</td>\n",
       "      <td>female</td>\n",
       "      <td>bullet</td>\n",
       "      <td>2014-01-01</td>\n",
       "    </tr>\n",
       "    <tr>\n",
       "      <th>3</th>\n",
       "      <td>653063</td>\n",
       "      <td>200.0</td>\n",
       "      <td>200.0</td>\n",
       "      <td>Embroidery</td>\n",
       "      <td>Arts</td>\n",
       "      <td>to purchase an embroidery machine and a variet...</td>\n",
       "      <td>PK</td>\n",
       "      <td>Pakistan</td>\n",
       "      <td>Lahore</td>\n",
       "      <td>PKR</td>\n",
       "      <td>247.0</td>\n",
       "      <td>2014-01-01 08:03:11+00:00</td>\n",
       "      <td>2013-12-24 08:00:00+00:00</td>\n",
       "      <td>2014-01-01 13:00:00+00:00</td>\n",
       "      <td>11.0</td>\n",
       "      <td>8</td>\n",
       "      <td>NaN</td>\n",
       "      <td>female</td>\n",
       "      <td>irregular</td>\n",
       "      <td>2014-01-01</td>\n",
       "    </tr>\n",
       "    <tr>\n",
       "      <th>4</th>\n",
       "      <td>653084</td>\n",
       "      <td>400.0</td>\n",
       "      <td>400.0</td>\n",
       "      <td>Milk Sales</td>\n",
       "      <td>Food</td>\n",
       "      <td>to purchase one buffalo.</td>\n",
       "      <td>PK</td>\n",
       "      <td>Pakistan</td>\n",
       "      <td>Abdul Hakeem</td>\n",
       "      <td>PKR</td>\n",
       "      <td>245.0</td>\n",
       "      <td>2014-01-01 11:53:19+00:00</td>\n",
       "      <td>2013-12-17 08:00:00+00:00</td>\n",
       "      <td>2014-01-01 19:18:51+00:00</td>\n",
       "      <td>14.0</td>\n",
       "      <td>16</td>\n",
       "      <td>NaN</td>\n",
       "      <td>female</td>\n",
       "      <td>monthly</td>\n",
       "      <td>2014-01-01</td>\n",
       "    </tr>\n",
       "  </tbody>\n",
       "</table>\n",
       "</div>"
      ],
      "text/plain": [
       "       id  funded_amount  loan_amount             activity          sector  \\\n",
       "0  653051          300.0        300.0  Fruits & Vegetables            Food   \n",
       "1  653053          575.0        575.0             Rickshaw  Transportation   \n",
       "2  653068          150.0        150.0       Transportation  Transportation   \n",
       "3  653063          200.0        200.0           Embroidery            Arts   \n",
       "4  653084          400.0        400.0           Milk Sales            Food   \n",
       "\n",
       "                                                 use country_code   country  \\\n",
       "0            To buy seasonal, fresh fruits to sell.            PK  Pakistan   \n",
       "1  to repair and maintain the auto rickshaw used ...           PK  Pakistan   \n",
       "2  To repair their old cycle-van and buy another ...           IN     India   \n",
       "3  to purchase an embroidery machine and a variet...           PK  Pakistan   \n",
       "4                           to purchase one buffalo.           PK  Pakistan   \n",
       "\n",
       "         region currency  partner_id                posted_time  \\\n",
       "0        Lahore      PKR       247.0  2014-01-01 06:12:39+00:00   \n",
       "1        Lahore      PKR       247.0  2014-01-01 06:51:08+00:00   \n",
       "2     Maynaguri      INR       334.0  2014-01-01 09:58:07+00:00   \n",
       "3        Lahore      PKR       247.0  2014-01-01 08:03:11+00:00   \n",
       "4  Abdul Hakeem      PKR       245.0  2014-01-01 11:53:19+00:00   \n",
       "\n",
       "              disbursed_time                funded_time  term_in_months  \\\n",
       "0  2013-12-17 08:00:00+00:00  2014-01-02 10:06:32+00:00            12.0   \n",
       "1  2013-12-17 08:00:00+00:00  2014-01-02 09:17:23+00:00            11.0   \n",
       "2  2013-12-17 08:00:00+00:00  2014-01-01 16:01:36+00:00            43.0   \n",
       "3  2013-12-24 08:00:00+00:00  2014-01-01 13:00:00+00:00            11.0   \n",
       "4  2013-12-17 08:00:00+00:00  2014-01-01 19:18:51+00:00            14.0   \n",
       "\n",
       "   lender_count                          tags borrower_genders  \\\n",
       "0            12                           NaN           female   \n",
       "1            14                           NaN   female, female   \n",
       "2             6  user_favorite, user_favorite           female   \n",
       "3             8                           NaN           female   \n",
       "4            16                           NaN           female   \n",
       "\n",
       "  repayment_interval        date  \n",
       "0          irregular  2014-01-01  \n",
       "1          irregular  2014-01-01  \n",
       "2             bullet  2014-01-01  \n",
       "3          irregular  2014-01-01  \n",
       "4            monthly  2014-01-01  "
      ]
     },
     "execution_count": 3,
     "metadata": {},
     "output_type": "execute_result"
    }
   ],
   "source": [
    "data = pd.read_csv(\"kiva_loans.csv\")\n",
    "\n",
    "data.head(5)"
   ]
  },
  {
   "cell_type": "markdown",
   "metadata": {},
   "source": [
    "## Kiva Loans\n",
    "\n",
    "This file contains records from the Kiva Data Snapshot and can be matched to the loan theme regions to get a loan’s location.\n",
    "\n",
    "\n",
    "### Column descriptions:\n",
    "\n",
    "- **id**: Unique ID for loan\n",
    "- **funded_amount**: The amount disbursed by Kiva to the field agent (USD)\n",
    "- **loan_amount**: The amount disbursed by the field agent to the borrower (USD)\n",
    "- **activity**: More granular category\n",
    "- **sector**: High-level category\n",
    "- **use**: Exact usage of loan amount\n",
    "- **country_code**: ISO country code of the country in which the loan was disbursed\n",
    "- **country**: Full country name of the country in which the loan was disbursed\n",
    "- **region**: Full region name within the country\n",
    "- **currency**: The currency in which the loan was disbursed\n",
    "- **partner_id**: ID of the partner organization\n",
    "- **posted_time**: The time at which the loan is posted on Kiva by the field agent\n",
    "- **disbursed_time**: The time at which the loan is disbursed by the field agent to the borrower\n",
    "- **funded_time**: The time at which the loan posted to Kiva gets funded by lenders completely\n",
    "- **term_in_months**: The duration for which the loan was disbursed in months\n",
    "- **lender_count**: The total number of lenders that contributed to this loan\n",
    "- **tags**: Tags associated with the loan\n",
    "- **borrower_genders**: Comma-separated M,F letters, where each instance represents a single male/female in the group\n",
    "- **repayment_interval**: Interval for loan repayment\n",
    "- **date**: Date of record\n",
    "\n"
   ]
  },
  {
   "cell_type": "code",
   "execution_count": 4,
   "metadata": {},
   "outputs": [
    {
     "name": "stdout",
     "output_type": "stream",
     "text": [
      "Dataset Overview:\n",
      "<class 'pandas.core.frame.DataFrame'>\n",
      "RangeIndex: 671205 entries, 0 to 671204\n",
      "Data columns (total 20 columns):\n",
      " #   Column              Non-Null Count   Dtype  \n",
      "---  ------              --------------   -----  \n",
      " 0   id                  671205 non-null  int64  \n",
      " 1   funded_amount       671205 non-null  float64\n",
      " 2   loan_amount         671205 non-null  float64\n",
      " 3   activity            671205 non-null  object \n",
      " 4   sector              671205 non-null  object \n",
      " 5   use                 666973 non-null  object \n",
      " 6   country_code        671197 non-null  object \n",
      " 7   country             671205 non-null  object \n",
      " 8   region              614405 non-null  object \n",
      " 9   currency            671205 non-null  object \n",
      " 10  partner_id          657698 non-null  float64\n",
      " 11  posted_time         671205 non-null  object \n",
      " 12  disbursed_time      668809 non-null  object \n",
      " 13  funded_time         622874 non-null  object \n",
      " 14  term_in_months      671205 non-null  float64\n",
      " 15  lender_count        671205 non-null  int64  \n",
      " 16  tags                499789 non-null  object \n",
      " 17  borrower_genders    666984 non-null  object \n",
      " 18  repayment_interval  671205 non-null  object \n",
      " 19  date                671205 non-null  object \n",
      "dtypes: float64(4), int64(2), object(14)\n",
      "memory usage: 102.4+ MB\n"
     ]
    }
   ],
   "source": [
    "print(\"Dataset Overview:\")\n",
    "data.info()   # dataset overview"
   ]
  },
  {
   "cell_type": "code",
   "execution_count": 5,
   "metadata": {},
   "outputs": [
    {
     "name": "stdout",
     "output_type": "stream",
     "text": [
      "Missing Value\n",
      "  id                         0\n",
      "funded_amount              0\n",
      "loan_amount                0\n",
      "activity                   0\n",
      "sector                     0\n",
      "use                     4232\n",
      "country_code               8\n",
      "country                    0\n",
      "region                 56800\n",
      "currency                   0\n",
      "partner_id             13507\n",
      "posted_time                0\n",
      "disbursed_time          2396\n",
      "funded_time            48331\n",
      "term_in_months             0\n",
      "lender_count               0\n",
      "tags                  171416\n",
      "borrower_genders        4221\n",
      "repayment_interval         0\n",
      "date                       0\n",
      "dtype: int64\n",
      "----------------\n",
      "Dublicated Value :  0\n"
     ]
    }
   ],
   "source": [
    "# Count the missing values in each column\n",
    "missing_values = data.isnull().sum()\n",
    "\n",
    "print(\"Missing Value\\n \", missing_values)\n",
    "print(\"----------------\")\n",
    "print(\"Dublicated Value : \",data.duplicated().sum()) # dublicate value"
   ]
  },
  {
   "cell_type": "code",
   "execution_count": 6,
   "metadata": {},
   "outputs": [
    {
     "name": "stdout",
     "output_type": "stream",
     "text": [
      "Columns with Missing Values:\n",
      "use                   4232\n",
      "country_code             8\n",
      "region               56800\n",
      "partner_id           13507\n",
      "disbursed_time        2396\n",
      "funded_time          48331\n",
      "tags                171416\n",
      "borrower_genders      4221\n",
      "dtype: int64\n"
     ]
    }
   ],
   "source": [
    "\n",
    "# Filter columns with missing values (count greater than zero)\n",
    "columns_with_missing_values = missing_values[missing_values > 0]\n",
    "\n",
    "if not columns_with_missing_values.empty:\n",
    "    print(\"Columns with Missing Values:\")\n",
    "    print(columns_with_missing_values)\n",
    "else:\n",
    "    print(\"No missing values found in any column.\")\n"
   ]
  },
  {
   "cell_type": "markdown",
   "metadata": {},
   "source": [
    "We've identified missing data in several columns: `['use', 'region', 'partner_id', 'disbursed_time', 'funded_time', 'tags', 'borrower_genders']`. While most of these may not significantly affect our analysis, it's worth noting that there are a few crucial columns — ` 'borrower_gender', 'disbursed_time', and 'funded_time'` — from which we can extract valuable insights."
   ]
  },
  {
   "cell_type": "code",
   "execution_count": 7,
   "metadata": {},
   "outputs": [
    {
     "name": "stdout",
     "output_type": "stream",
     "text": [
      "\n",
      "Summary Statistics of Kiva Loans Dataset:\n"
     ]
    },
    {
     "data": {
      "text/html": [
       "<style type=\"text/css\">\n",
       "#T_f6fbc_row0_col0, #T_f6fbc_row0_col1, #T_f6fbc_row1_col0, #T_f6fbc_row1_col3, #T_f6fbc_row5_col0, #T_f6fbc_row5_col1, #T_f6fbc_row5_col3 {\n",
       "  background-color: #450457;\n",
       "  color: #f1f1f1;\n",
       "}\n",
       "#T_f6fbc_row0_col2 {\n",
       "  background-color: #481d6f;\n",
       "  color: #f1f1f1;\n",
       "}\n",
       "#T_f6fbc_row0_col3, #T_f6fbc_row4_col0, #T_f6fbc_row4_col1, #T_f6fbc_row4_col3 {\n",
       "  background-color: #440256;\n",
       "  color: #f1f1f1;\n",
       "}\n",
       "#T_f6fbc_row1_col1 {\n",
       "  background-color: #450559;\n",
       "  color: #f1f1f1;\n",
       "}\n",
       "#T_f6fbc_row1_col2 {\n",
       "  background-color: #471365;\n",
       "  color: #f1f1f1;\n",
       "}\n",
       "#T_f6fbc_row2_col0, #T_f6fbc_row2_col1, #T_f6fbc_row2_col2, #T_f6fbc_row2_col3, #T_f6fbc_row3_col0, #T_f6fbc_row3_col1, #T_f6fbc_row3_col3 {\n",
       "  background-color: #440154;\n",
       "  color: #f1f1f1;\n",
       "}\n",
       "#T_f6fbc_row3_col2 {\n",
       "  background-color: #471164;\n",
       "  color: #f1f1f1;\n",
       "}\n",
       "#T_f6fbc_row4_col2 {\n",
       "  background-color: #481c6e;\n",
       "  color: #f1f1f1;\n",
       "}\n",
       "#T_f6fbc_row5_col2 {\n",
       "  background-color: #481f70;\n",
       "  color: #f1f1f1;\n",
       "}\n",
       "#T_f6fbc_row6_col0, #T_f6fbc_row6_col1, #T_f6fbc_row6_col2, #T_f6fbc_row6_col3 {\n",
       "  background-color: #fde725;\n",
       "  color: #000000;\n",
       "}\n",
       "</style>\n",
       "<table id=\"T_f6fbc\">\n",
       "  <thead>\n",
       "    <tr>\n",
       "      <th class=\"blank level0\" >&nbsp;</th>\n",
       "      <th id=\"T_f6fbc_level0_col0\" class=\"col_heading level0 col0\" >funded_amount</th>\n",
       "      <th id=\"T_f6fbc_level0_col1\" class=\"col_heading level0 col1\" >loan_amount</th>\n",
       "      <th id=\"T_f6fbc_level0_col2\" class=\"col_heading level0 col2\" >term_in_months</th>\n",
       "      <th id=\"T_f6fbc_level0_col3\" class=\"col_heading level0 col3\" >lender_count</th>\n",
       "    </tr>\n",
       "  </thead>\n",
       "  <tbody>\n",
       "    <tr>\n",
       "      <th id=\"T_f6fbc_level0_row0\" class=\"row_heading level0 row0\" >mean</th>\n",
       "      <td id=\"T_f6fbc_row0_col0\" class=\"data row0 col0\" >785.995061</td>\n",
       "      <td id=\"T_f6fbc_row0_col1\" class=\"data row0 col1\" >842.397107</td>\n",
       "      <td id=\"T_f6fbc_row0_col2\" class=\"data row0 col2\" >13.739022</td>\n",
       "      <td id=\"T_f6fbc_row0_col3\" class=\"data row0 col3\" >20.590922</td>\n",
       "    </tr>\n",
       "    <tr>\n",
       "      <th id=\"T_f6fbc_level0_row1\" class=\"row_heading level0 row1\" >std</th>\n",
       "      <td id=\"T_f6fbc_row1_col0\" class=\"data row1 col0\" >1130.398941</td>\n",
       "      <td id=\"T_f6fbc_row1_col1\" class=\"data row1 col1\" >1198.660073</td>\n",
       "      <td id=\"T_f6fbc_row1_col2\" class=\"data row1 col2\" >8.598919</td>\n",
       "      <td id=\"T_f6fbc_row1_col3\" class=\"data row1 col3\" >28.459551</td>\n",
       "    </tr>\n",
       "    <tr>\n",
       "      <th id=\"T_f6fbc_level0_row2\" class=\"row_heading level0 row2\" >min</th>\n",
       "      <td id=\"T_f6fbc_row2_col0\" class=\"data row2 col0\" >0.000000</td>\n",
       "      <td id=\"T_f6fbc_row2_col1\" class=\"data row2 col1\" >25.000000</td>\n",
       "      <td id=\"T_f6fbc_row2_col2\" class=\"data row2 col2\" >1.000000</td>\n",
       "      <td id=\"T_f6fbc_row2_col3\" class=\"data row2 col3\" >0.000000</td>\n",
       "    </tr>\n",
       "    <tr>\n",
       "      <th id=\"T_f6fbc_level0_row3\" class=\"row_heading level0 row3\" >25%</th>\n",
       "      <td id=\"T_f6fbc_row3_col0\" class=\"data row3 col0\" >250.000000</td>\n",
       "      <td id=\"T_f6fbc_row3_col1\" class=\"data row3 col1\" >275.000000</td>\n",
       "      <td id=\"T_f6fbc_row3_col2\" class=\"data row3 col2\" >8.000000</td>\n",
       "      <td id=\"T_f6fbc_row3_col3\" class=\"data row3 col3\" >7.000000</td>\n",
       "    </tr>\n",
       "    <tr>\n",
       "      <th id=\"T_f6fbc_level0_row4\" class=\"row_heading level0 row4\" >50%</th>\n",
       "      <td id=\"T_f6fbc_row4_col0\" class=\"data row4 col0\" >450.000000</td>\n",
       "      <td id=\"T_f6fbc_row4_col1\" class=\"data row4 col1\" >500.000000</td>\n",
       "      <td id=\"T_f6fbc_row4_col2\" class=\"data row4 col2\" >13.000000</td>\n",
       "      <td id=\"T_f6fbc_row4_col3\" class=\"data row4 col3\" >13.000000</td>\n",
       "    </tr>\n",
       "    <tr>\n",
       "      <th id=\"T_f6fbc_level0_row5\" class=\"row_heading level0 row5\" >75%</th>\n",
       "      <td id=\"T_f6fbc_row5_col0\" class=\"data row5 col0\" >900.000000</td>\n",
       "      <td id=\"T_f6fbc_row5_col1\" class=\"data row5 col1\" >1000.000000</td>\n",
       "      <td id=\"T_f6fbc_row5_col2\" class=\"data row5 col2\" >14.000000</td>\n",
       "      <td id=\"T_f6fbc_row5_col3\" class=\"data row5 col3\" >24.000000</td>\n",
       "    </tr>\n",
       "    <tr>\n",
       "      <th id=\"T_f6fbc_level0_row6\" class=\"row_heading level0 row6\" >max</th>\n",
       "      <td id=\"T_f6fbc_row6_col0\" class=\"data row6 col0\" >100000.000000</td>\n",
       "      <td id=\"T_f6fbc_row6_col1\" class=\"data row6 col1\" >100000.000000</td>\n",
       "      <td id=\"T_f6fbc_row6_col2\" class=\"data row6 col2\" >158.000000</td>\n",
       "      <td id=\"T_f6fbc_row6_col3\" class=\"data row6 col3\" >2986.000000</td>\n",
       "    </tr>\n",
       "  </tbody>\n",
       "</table>\n"
      ],
      "text/plain": [
       "<pandas.io.formats.style.Styler at 0x21da2138110>"
      ]
     },
     "execution_count": 7,
     "metadata": {},
     "output_type": "execute_result"
    }
   ],
   "source": [
    "print(\"\\nSummary Statistics of Kiva Loans Dataset:\")\n",
    "\n",
    "data.describe().iloc[1:,[1,2,4,5]].style.background_gradient(cmap='viridis')\n"
   ]
  },
  {
   "cell_type": "markdown",
   "metadata": {},
   "source": [
    "\n",
    "### Key Performance Indicator: Loan Repayment Rate\n",
    "\n",
    "The Loan Repayment Rate is a crucial Key Performance Indicator (KPI) in microfinance and lending industries. It measures the percentage of loan principal and interest that borrowers have repaid compared to the total amount borrowed. \n",
    "\n",
    "A high repayment rate indicates that borrowers are fulfilling their financial obligations, which reflects positively on the lender's portfolio performance and sustainability. Conversely, a low repayment rate may signal potential financial risks, such as defaults or delinquencies, which could impact the lender's profitability and ability to provide further loans.\n",
    "\n",
    "Lenders use the repayment rate to assess the effectiveness of their lending strategies, the quality of borrowers, and the overall health of their loan portfolio. It helps them make informed decisions about future lending activities, risk management, and resource allocation.\n",
    "\n",
    "Monitoring the repayment rate over time allows lenders to identify trends, patterns, and areas for improvement. They can implement targeted interventions, such as financial education programs or loan restructuring options, to support borrowers and enhance repayment behavior.\n",
    "\n",
    "In summary, the Loan Repayment Rate is a critical metric that guides lenders in maintaining sustainable lending practices, fostering financial inclusion, and maximizing social impact.\n",
    "\n",
    "\n"
   ]
  },
  {
   "cell_type": "code",
   "execution_count": 8,
   "metadata": {},
   "outputs": [
    {
     "name": "stdout",
     "output_type": "stream",
     "text": [
      "Number of IDs with same loan amount and funded amount: 622875\n"
     ]
    }
   ],
   "source": [
    "\n",
    "\n",
    "# Count the number of IDs where loan amount equals funded amount\n",
    "same_amount_count = len(data[data['loan_amount'] == data['funded_amount']])\n",
    "\n",
    "print(\"Number of IDs with same loan amount and funded amount:\", same_amount_count)\n",
    "\n"
   ]
  },
  {
   "cell_type": "code",
   "execution_count": 9,
   "metadata": {},
   "outputs": [
    {
     "name": "stdout",
     "output_type": "stream",
     "text": [
      "Number of IDs with high loan amount and funded amount: 48328\n"
     ]
    }
   ],
   "source": [
    "# Count the number of IDs where loan amount greater than funded amount\n",
    "high_amount_count = len(data[data['loan_amount'] > data['funded_amount']])\n",
    "\n",
    "print(\"Number of IDs with high loan amount and funded amount:\", high_amount_count)\n",
    "\n"
   ]
  },
  {
   "cell_type": "code",
   "execution_count": 10,
   "metadata": {},
   "outputs": [
    {
     "name": "stdout",
     "output_type": "stream",
     "text": [
      "Number of IDs with low loan amount and funded amount: 2\n"
     ]
    }
   ],
   "source": [
    "# Count the number of IDs where loan amount lesser than funded amount\n",
    "low_amount_count = len(data[data['loan_amount'] < data['funded_amount']])\n",
    "\n",
    "print(\"Number of IDs with low loan amount and funded amount:\", low_amount_count)\n",
    "\n"
   ]
  },
  {
   "cell_type": "code",
   "execution_count": 11,
   "metadata": {},
   "outputs": [
    {
     "name": "stdout",
     "output_type": "stream",
     "text": [
      "Number of IDs with zero funded amount: 3383\n"
     ]
    }
   ],
   "source": [
    "# Count the number of id where lfunded amount was 0 (yet to disbursed)\n",
    "zero_amount_count = len(data[data.funded_amount < 1])\n",
    "\n",
    "print(\"Number of IDs with zero funded amount:\", zero_amount_count)\n"
   ]
  },
  {
   "cell_type": "code",
   "execution_count": 12,
   "metadata": {},
   "outputs": [
    {
     "data": {
      "text/html": [
       "<div>\n",
       "<style scoped>\n",
       "    .dataframe tbody tr th:only-of-type {\n",
       "        vertical-align: middle;\n",
       "    }\n",
       "\n",
       "    .dataframe tbody tr th {\n",
       "        vertical-align: top;\n",
       "    }\n",
       "\n",
       "    .dataframe thead th {\n",
       "        text-align: right;\n",
       "    }\n",
       "</style>\n",
       "<table border=\"1\" class=\"dataframe\">\n",
       "  <thead>\n",
       "    <tr style=\"text-align: right;\">\n",
       "      <th></th>\n",
       "      <th>id</th>\n",
       "      <th>funded_amount</th>\n",
       "      <th>loan_amount</th>\n",
       "      <th>activity</th>\n",
       "      <th>sector</th>\n",
       "      <th>use</th>\n",
       "      <th>country_code</th>\n",
       "      <th>country</th>\n",
       "      <th>region</th>\n",
       "      <th>currency</th>\n",
       "      <th>...</th>\n",
       "      <th>posted_time</th>\n",
       "      <th>disbursed_time</th>\n",
       "      <th>funded_time</th>\n",
       "      <th>term_in_months</th>\n",
       "      <th>lender_count</th>\n",
       "      <th>tags</th>\n",
       "      <th>borrower_genders</th>\n",
       "      <th>repayment_interval</th>\n",
       "      <th>date</th>\n",
       "      <th>is_paid</th>\n",
       "    </tr>\n",
       "  </thead>\n",
       "  <tbody>\n",
       "    <tr>\n",
       "      <th>0</th>\n",
       "      <td>653051</td>\n",
       "      <td>300.0</td>\n",
       "      <td>300.0</td>\n",
       "      <td>Fruits &amp; Vegetables</td>\n",
       "      <td>Food</td>\n",
       "      <td>To buy seasonal, fresh fruits to sell.</td>\n",
       "      <td>PK</td>\n",
       "      <td>Pakistan</td>\n",
       "      <td>Lahore</td>\n",
       "      <td>PKR</td>\n",
       "      <td>...</td>\n",
       "      <td>2014-01-01 06:12:39+00:00</td>\n",
       "      <td>2013-12-17 08:00:00+00:00</td>\n",
       "      <td>2014-01-02 10:06:32+00:00</td>\n",
       "      <td>12.0</td>\n",
       "      <td>12</td>\n",
       "      <td>NaN</td>\n",
       "      <td>female</td>\n",
       "      <td>irregular</td>\n",
       "      <td>2014-01-01</td>\n",
       "      <td>True</td>\n",
       "    </tr>\n",
       "    <tr>\n",
       "      <th>1</th>\n",
       "      <td>653053</td>\n",
       "      <td>575.0</td>\n",
       "      <td>575.0</td>\n",
       "      <td>Rickshaw</td>\n",
       "      <td>Transportation</td>\n",
       "      <td>to repair and maintain the auto rickshaw used ...</td>\n",
       "      <td>PK</td>\n",
       "      <td>Pakistan</td>\n",
       "      <td>Lahore</td>\n",
       "      <td>PKR</td>\n",
       "      <td>...</td>\n",
       "      <td>2014-01-01 06:51:08+00:00</td>\n",
       "      <td>2013-12-17 08:00:00+00:00</td>\n",
       "      <td>2014-01-02 09:17:23+00:00</td>\n",
       "      <td>11.0</td>\n",
       "      <td>14</td>\n",
       "      <td>NaN</td>\n",
       "      <td>female, female</td>\n",
       "      <td>irregular</td>\n",
       "      <td>2014-01-01</td>\n",
       "      <td>True</td>\n",
       "    </tr>\n",
       "    <tr>\n",
       "      <th>2</th>\n",
       "      <td>653068</td>\n",
       "      <td>150.0</td>\n",
       "      <td>150.0</td>\n",
       "      <td>Transportation</td>\n",
       "      <td>Transportation</td>\n",
       "      <td>To repair their old cycle-van and buy another ...</td>\n",
       "      <td>IN</td>\n",
       "      <td>India</td>\n",
       "      <td>Maynaguri</td>\n",
       "      <td>INR</td>\n",
       "      <td>...</td>\n",
       "      <td>2014-01-01 09:58:07+00:00</td>\n",
       "      <td>2013-12-17 08:00:00+00:00</td>\n",
       "      <td>2014-01-01 16:01:36+00:00</td>\n",
       "      <td>43.0</td>\n",
       "      <td>6</td>\n",
       "      <td>user_favorite, user_favorite</td>\n",
       "      <td>female</td>\n",
       "      <td>bullet</td>\n",
       "      <td>2014-01-01</td>\n",
       "      <td>True</td>\n",
       "    </tr>\n",
       "    <tr>\n",
       "      <th>3</th>\n",
       "      <td>653063</td>\n",
       "      <td>200.0</td>\n",
       "      <td>200.0</td>\n",
       "      <td>Embroidery</td>\n",
       "      <td>Arts</td>\n",
       "      <td>to purchase an embroidery machine and a variet...</td>\n",
       "      <td>PK</td>\n",
       "      <td>Pakistan</td>\n",
       "      <td>Lahore</td>\n",
       "      <td>PKR</td>\n",
       "      <td>...</td>\n",
       "      <td>2014-01-01 08:03:11+00:00</td>\n",
       "      <td>2013-12-24 08:00:00+00:00</td>\n",
       "      <td>2014-01-01 13:00:00+00:00</td>\n",
       "      <td>11.0</td>\n",
       "      <td>8</td>\n",
       "      <td>NaN</td>\n",
       "      <td>female</td>\n",
       "      <td>irregular</td>\n",
       "      <td>2014-01-01</td>\n",
       "      <td>True</td>\n",
       "    </tr>\n",
       "    <tr>\n",
       "      <th>4</th>\n",
       "      <td>653084</td>\n",
       "      <td>400.0</td>\n",
       "      <td>400.0</td>\n",
       "      <td>Milk Sales</td>\n",
       "      <td>Food</td>\n",
       "      <td>to purchase one buffalo.</td>\n",
       "      <td>PK</td>\n",
       "      <td>Pakistan</td>\n",
       "      <td>Abdul Hakeem</td>\n",
       "      <td>PKR</td>\n",
       "      <td>...</td>\n",
       "      <td>2014-01-01 11:53:19+00:00</td>\n",
       "      <td>2013-12-17 08:00:00+00:00</td>\n",
       "      <td>2014-01-01 19:18:51+00:00</td>\n",
       "      <td>14.0</td>\n",
       "      <td>16</td>\n",
       "      <td>NaN</td>\n",
       "      <td>female</td>\n",
       "      <td>monthly</td>\n",
       "      <td>2014-01-01</td>\n",
       "      <td>True</td>\n",
       "    </tr>\n",
       "  </tbody>\n",
       "</table>\n",
       "<p>5 rows × 21 columns</p>\n",
       "</div>"
      ],
      "text/plain": [
       "       id  funded_amount  loan_amount             activity          sector  \\\n",
       "0  653051          300.0        300.0  Fruits & Vegetables            Food   \n",
       "1  653053          575.0        575.0             Rickshaw  Transportation   \n",
       "2  653068          150.0        150.0       Transportation  Transportation   \n",
       "3  653063          200.0        200.0           Embroidery            Arts   \n",
       "4  653084          400.0        400.0           Milk Sales            Food   \n",
       "\n",
       "                                                 use country_code   country  \\\n",
       "0            To buy seasonal, fresh fruits to sell.            PK  Pakistan   \n",
       "1  to repair and maintain the auto rickshaw used ...           PK  Pakistan   \n",
       "2  To repair their old cycle-van and buy another ...           IN     India   \n",
       "3  to purchase an embroidery machine and a variet...           PK  Pakistan   \n",
       "4                           to purchase one buffalo.           PK  Pakistan   \n",
       "\n",
       "         region currency  ...                posted_time  \\\n",
       "0        Lahore      PKR  ...  2014-01-01 06:12:39+00:00   \n",
       "1        Lahore      PKR  ...  2014-01-01 06:51:08+00:00   \n",
       "2     Maynaguri      INR  ...  2014-01-01 09:58:07+00:00   \n",
       "3        Lahore      PKR  ...  2014-01-01 08:03:11+00:00   \n",
       "4  Abdul Hakeem      PKR  ...  2014-01-01 11:53:19+00:00   \n",
       "\n",
       "              disbursed_time                funded_time term_in_months  \\\n",
       "0  2013-12-17 08:00:00+00:00  2014-01-02 10:06:32+00:00           12.0   \n",
       "1  2013-12-17 08:00:00+00:00  2014-01-02 09:17:23+00:00           11.0   \n",
       "2  2013-12-17 08:00:00+00:00  2014-01-01 16:01:36+00:00           43.0   \n",
       "3  2013-12-24 08:00:00+00:00  2014-01-01 13:00:00+00:00           11.0   \n",
       "4  2013-12-17 08:00:00+00:00  2014-01-01 19:18:51+00:00           14.0   \n",
       "\n",
       "   lender_count                          tags borrower_genders  \\\n",
       "0            12                           NaN           female   \n",
       "1            14                           NaN   female, female   \n",
       "2             6  user_favorite, user_favorite           female   \n",
       "3             8                           NaN           female   \n",
       "4            16                           NaN           female   \n",
       "\n",
       "  repayment_interval        date is_paid  \n",
       "0          irregular  2014-01-01    True  \n",
       "1          irregular  2014-01-01    True  \n",
       "2             bullet  2014-01-01    True  \n",
       "3          irregular  2014-01-01    True  \n",
       "4            monthly  2014-01-01    True  \n",
       "\n",
       "[5 rows x 21 columns]"
      ]
     },
     "execution_count": 12,
     "metadata": {},
     "output_type": "execute_result"
    }
   ],
   "source": [
    "def is_paid(row):\n",
    "    # Check if 'is_paid' column already has a value\n",
    "    if 'is_paid' in row.index and pd.notnull(row['is_paid']):\n",
    "        return row['is_paid']\n",
    "    \n",
    "    # Check if disbursed_time, funded_time, or funded_amount are NaN or 0\n",
    "    if pd.isnull(row['disbursed_time']) or row['disbursed_time'] == 0 or \\\n",
    "       pd.isnull(row['funded_time']) or row['funded_time'] == 0 or \\\n",
    "       pd.isnull(row['funded_amount']) or row['funded_amount'] == 0:\n",
    "        return False\n",
    "    \n",
    "    # Check if funded_amount equals loan_amount\n",
    "    if row['funded_amount'] == row['loan_amount']:\n",
    "        return True\n",
    "    \n",
    "    # Check based on repayment interval\n",
    "    if row['repayment_interval'] in ['irregular', 'bullet']:\n",
    "        return row['funded_amount'] == row['loan_amount']\n",
    "    elif row['repayment_interval'] == 'monthly':\n",
    "        return row['lender_count'] >= row['term_in_months']\n",
    "    elif row['repayment_interval'] == 'weekly':\n",
    "        return row['lender_count'] >= row['term_in_months'] * 4  # Assuming 4 weeks in a month\n",
    "    \n",
    "    return False  # Default case\n",
    "\n",
    "# Apply the function to create a new column indicating whether the loan is paid\n",
    "data['is_paid'] = data.apply(is_paid, axis=1)\n",
    "\n",
    "# Display the updated dataframe\n",
    "data.head()"
   ]
  },
  {
   "cell_type": "markdown",
   "metadata": {},
   "source": [
    "As we create new feature from exciting dataset, using some assumption, now we can easily calculate Loan Repayment Rate(LRR)\n",
    "we created a new feature from the existing dataset and made some assumptions, and now  can easily calculate the Loan Repayment Rate (LRR) using the formula you provided:\n",
    "\n",
    "LRR = (Total Amount Repaid / Total Amount Disbursed) * 100\n"
   ]
  },
  {
   "cell_type": "code",
   "execution_count": 13,
   "metadata": {},
   "outputs": [
    {
     "name": "stdout",
     "output_type": "stream",
     "text": [
      "Loan Repayment Rate (LRR): 87.91197057273149\n"
     ]
    }
   ],
   "source": [
    "# Assumpation 1\n",
    "# Calculate the Loan Repayment Rate (LRR) using the new feature \n",
    "total_amount_repaid = data[data['is_paid']]['funded_amount'].sum()# Calculate total amount repaid based on your new feature\n",
    "total_amount_disbursed = data['loan_amount'].sum() # Calculate total amount disbursed based on actual dataset\n",
    "\n",
    "# Calculate the Loan Repayment Rate (LRR)\n",
    "lrr = (total_amount_repaid / total_amount_disbursed) * 100\n",
    "\n",
    "print(\"Loan Repayment Rate (LRR):\", lrr)"
   ]
  },
  {
   "cell_type": "code",
   "execution_count": 14,
   "metadata": {},
   "outputs": [
    {
     "name": "stdout",
     "output_type": "stream",
     "text": [
      "Proportion of paid loans: 0.9276346272748266\n",
      "Total amount repaid for fully repaid loans: 497072875.0\n",
      "Total amount disbursed for fully repaid loans: 497072875.0\n",
      "Loan Repayment Rate (LRR): 100.0\n"
     ]
    }
   ],
   "source": [
    "# Assumpation 2 \n",
    "\n",
    "# Calculate the mean of is_paid column to get the proportion of paid loans\n",
    "proportion_paid = data['is_paid'].mean()\n",
    "\n",
    "# Filter the DataFrame to get only the fully repaid loans\n",
    "fully_repaid_loans = data[data['is_paid']]\n",
    "\n",
    "# Calculate the total amount repaid for fully repaid loans\n",
    "total_amount_repaid = fully_repaid_loans['funded_amount'].sum()\n",
    "\n",
    "# Calculate the total amount disbursed for fully repaid loans\n",
    "total_amount_disbursed = fully_repaid_loans['loan_amount'].sum()\n",
    "\n",
    "# Calculate the Loan Repayment Rate (LRR) as a percentage\n",
    "lrr = (total_amount_repaid / total_amount_disbursed) * 100\n",
    "\n",
    "# Print the results\n",
    "print(\"Proportion of paid loans:\", proportion_paid)\n",
    "print(\"Total amount repaid for fully repaid loans:\", total_amount_repaid)\n",
    "print(\"Total amount disbursed for fully repaid loans:\", total_amount_disbursed)\n",
    "print(\"Loan Repayment Rate (LRR):\", lrr)\n"
   ]
  },
  {
   "cell_type": "code",
   "execution_count": 15,
   "metadata": {},
   "outputs": [
    {
     "data": {
      "text/html": [
       "<div>\n",
       "<style scoped>\n",
       "    .dataframe tbody tr th:only-of-type {\n",
       "        vertical-align: middle;\n",
       "    }\n",
       "\n",
       "    .dataframe tbody tr th {\n",
       "        vertical-align: top;\n",
       "    }\n",
       "\n",
       "    .dataframe thead th {\n",
       "        text-align: right;\n",
       "    }\n",
       "</style>\n",
       "<table border=\"1\" class=\"dataframe\">\n",
       "  <thead>\n",
       "    <tr style=\"text-align: right;\">\n",
       "      <th></th>\n",
       "      <th>country</th>\n",
       "      <th>is_paid</th>\n",
       "    </tr>\n",
       "  </thead>\n",
       "  <tbody>\n",
       "    <tr>\n",
       "      <th>0</th>\n",
       "      <td>Afghanistan</td>\n",
       "      <td>1.0</td>\n",
       "    </tr>\n",
       "    <tr>\n",
       "      <th>67</th>\n",
       "      <td>Somalia</td>\n",
       "      <td>1.0</td>\n",
       "    </tr>\n",
       "    <tr>\n",
       "      <th>39</th>\n",
       "      <td>Lesotho</td>\n",
       "      <td>1.0</td>\n",
       "    </tr>\n",
       "    <tr>\n",
       "      <th>18</th>\n",
       "      <td>Cote D'Ivoire</td>\n",
       "      <td>1.0</td>\n",
       "    </tr>\n",
       "    <tr>\n",
       "      <th>44</th>\n",
       "      <td>Mauritania</td>\n",
       "      <td>1.0</td>\n",
       "    </tr>\n",
       "  </tbody>\n",
       "</table>\n",
       "</div>"
      ],
      "text/plain": [
       "          country  is_paid\n",
       "0     Afghanistan      1.0\n",
       "67        Somalia      1.0\n",
       "39        Lesotho      1.0\n",
       "18  Cote D'Ivoire      1.0\n",
       "44     Mauritania      1.0"
      ]
     },
     "execution_count": 15,
     "metadata": {},
     "output_type": "execute_result"
    }
   ],
   "source": [
    "# Calculate repayment rate by country\n",
    "repayment_rate_by_country = data.groupby('country')['is_paid'].mean().reset_index()\n",
    "repayment_rate_by_country = repayment_rate_by_country.sort_values(by='is_paid', ascending=False)\n",
    "\n",
    "repayment_rate_by_country.head()\n"
   ]
  },
  {
   "cell_type": "code",
   "execution_count": 16,
   "metadata": {},
   "outputs": [
    {
     "name": "stdout",
     "output_type": "stream",
     "text": [
      "country\n",
      "Afghanistan      1.0\n",
      "Belize           1.0\n",
      "Congo            1.0\n",
      "Cote D'Ivoire    1.0\n",
      "Israel           1.0\n",
      "Lesotho          1.0\n",
      "Mauritania       1.0\n",
      "Namibia          1.0\n",
      "Nepal            1.0\n",
      "Panama           1.0\n",
      "Name: is_paid, dtype: float64\n"
     ]
    }
   ],
   "source": [
    "top_10_countries = data.groupby('country')['is_paid'].mean().nlargest(10)\n",
    "print(top_10_countries)"
   ]
  },
  {
   "cell_type": "code",
   "execution_count": 17,
   "metadata": {},
   "outputs": [
    {
     "name": "stdout",
     "output_type": "stream",
     "text": [
      "country\n",
      "Guam               0.000000\n",
      "Virgin Islands     0.000000\n",
      "Bhutan             0.500000\n",
      "United States      0.634170\n",
      "Puerto Rico        0.750000\n",
      "Armenia            0.788553\n",
      "Colombia           0.819868\n",
      "El Salvador        0.820639\n",
      "Myanmar (Burma)    0.836898\n",
      "Azerbaijan         0.842159\n",
      "Name: is_paid, dtype: float64\n"
     ]
    }
   ],
   "source": [
    "small_10_countries = data.groupby('country')['is_paid'].mean().nsmallest(10)\n",
    "print(small_10_countries)\n"
   ]
  },
  {
   "cell_type": "code",
   "execution_count": 18,
   "metadata": {},
   "outputs": [
    {
     "name": "stdout",
     "output_type": "stream",
     "text": [
      "            sector   is_paid\n",
      "9    Manufacturing  0.992590\n",
      "1             Arts  0.982338\n",
      "4        Education  0.974914\n",
      "14       Wholesale  0.966877\n",
      "10    Personal Use  0.959819\n",
      "3     Construction  0.946554\n",
      "6             Food  0.940588\n",
      "7           Health  0.932885\n",
      "0      Agriculture  0.923001\n",
      "11          Retail  0.917112\n",
      "12        Services  0.913004\n",
      "2         Clothing  0.908039\n",
      "13  Transportation  0.888581\n",
      "8          Housing  0.881266\n",
      "5    Entertainment  0.873494\n"
     ]
    }
   ],
   "source": [
    "# Calculate repayment rate by sector\n",
    "repayment_rate_by_sector = data.groupby('sector')['is_paid'].mean().reset_index()\n",
    "repayment_rate_by_sector = repayment_rate_by_sector.sort_values(by='is_paid', ascending=False)\n",
    "print(repayment_rate_by_sector)"
   ]
  },
  {
   "cell_type": "markdown",
   "metadata": {},
   "source": [
    "As there is multiple data in single row of borrower_gender column, it should be cleaned."
   ]
  },
  {
   "cell_type": "code",
   "execution_count": 19,
   "metadata": {},
   "outputs": [],
   "source": [
    "# Clean the 'borrower_genders' column\n",
    "# Split the multiple genders into separate rows\n",
    "data['borrower_genders'] = data['borrower_genders'].str.split(', ')\n",
    "\n",
    "# Explode the 'borrower_genders' column to create separate rows for each gender\n",
    "data = data.explode('borrower_genders')\n",
    "\n",
    "# Now, 'borrower_genders' column will have one gender per row\n",
    "# You may want to remove any leading or trailing whitespace\n",
    "data['borrower_genders'] = data['borrower_genders'].str.strip()\n"
   ]
  },
  {
   "cell_type": "code",
   "execution_count": 20,
   "metadata": {},
   "outputs": [
    {
     "name": "stdout",
     "output_type": "stream",
     "text": [
      "  borrower_genders   is_paid\n",
      "0           female  0.951370\n",
      "1             male  0.865746\n"
     ]
    }
   ],
   "source": [
    "# Calculate repayment rate by gender\n",
    "repayment_rate_by_genders = data.groupby('borrower_genders')['is_paid'].mean().reset_index()\n",
    "repayment_rate_by_genders = repayment_rate_by_genders.sort_values(by='is_paid', ascending=False)\n",
    "print(repayment_rate_by_genders)"
   ]
  },
  {
   "cell_type": "code",
   "execution_count": 21,
   "metadata": {},
   "outputs": [
    {
     "name": "stdout",
     "output_type": "stream",
     "text": [
      "Sector Distribution:\n",
      "sector\n",
      "Agriculture       0.278177\n",
      "Food              0.241694\n",
      "Retail            0.168669\n",
      "Personal Use      0.075125\n",
      "Clothing          0.065695\n",
      "Services          0.056589\n",
      "Housing           0.029968\n",
      "Education         0.025992\n",
      "Arts              0.017577\n",
      "Transportation    0.013090\n",
      "Health            0.011157\n",
      "Construction      0.007797\n",
      "Manufacturing     0.007023\n",
      "Entertainment     0.000752\n",
      "Wholesale         0.000696\n",
      "Name: proportion, dtype: float64\n"
     ]
    }
   ],
   "source": [
    "# Sector Distribution\n",
    "sector_distribution = data['sector'].value_counts(normalize=True)\n",
    "print(\"Sector Distribution:\")\n",
    "print(sector_distribution)"
   ]
  },
  {
   "cell_type": "code",
   "execution_count": 22,
   "metadata": {},
   "outputs": [
    {
     "name": "stdout",
     "output_type": "stream",
     "text": [
      "Geographic Distribution:\n",
      "country\n",
      "Kenya            1.211871e-01\n",
      "Philippines      1.188071e-01\n",
      "Paraguay         8.828428e-02\n",
      "Cambodia         6.872388e-02\n",
      "Peru             4.678499e-02\n",
      "                     ...     \n",
      "Afghanistan      1.481006e-06\n",
      "Bhutan           1.481006e-06\n",
      "Guam             7.405032e-07\n",
      "Mauritania       7.405032e-07\n",
      "Cote D'Ivoire    7.405032e-07\n",
      "Name: proportion, Length: 87, dtype: float64\n"
     ]
    }
   ],
   "source": [
    "# Geographic Distribution\n",
    "geographic_distribution = data['country'].value_counts(normalize=True)\n",
    "print(\"Geographic Distribution:\")\n",
    "print(geographic_distribution)"
   ]
  },
  {
   "cell_type": "code",
   "execution_count": 23,
   "metadata": {},
   "outputs": [
    {
     "name": "stdout",
     "output_type": "stream",
     "text": [
      "Term in Months Distribution:\n",
      "term_in_months\n",
      "8.0      324359\n",
      "14.0     210148\n",
      "6.0      186387\n",
      "11.0     115923\n",
      "7.0       73023\n",
      "          ...  \n",
      "99.0          1\n",
      "148.0         1\n",
      "123.0         1\n",
      "147.0         1\n",
      "146.0         1\n",
      "Name: count, Length: 148, dtype: int64\n"
     ]
    }
   ],
   "source": [
    "# Term in Months\n",
    "term_distribution = data['term_in_months'].value_counts()\n",
    "print(\"Term in Months Distribution:\")\n",
    "print(term_distribution)"
   ]
  },
  {
   "cell_type": "code",
   "execution_count": 24,
   "metadata": {},
   "outputs": [
    {
     "name": "stdout",
     "output_type": "stream",
     "text": [
      "Borrower Gender Distribution:\n",
      "borrower_genders\n",
      "female    0.795794\n",
      "male      0.204206\n",
      "Name: proportion, dtype: float64\n"
     ]
    }
   ],
   "source": [
    "# Borrower Gender Distribution\n",
    "gender_distribution = data['borrower_genders'].value_counts(normalize=True)\n",
    "print(\"Borrower Gender Distribution:\")\n",
    "print(gender_distribution)\n"
   ]
  },
  {
   "cell_type": "code",
   "execution_count": 25,
   "metadata": {},
   "outputs": [
    {
     "name": "stdout",
     "output_type": "stream",
     "text": [
      "Repayment Interval Distribution:\n",
      "repayment_interval\n",
      "monthly      0.438148\n",
      "irregular    0.397903\n",
      "bullet       0.163503\n",
      "weekly       0.000446\n",
      "Name: proportion, dtype: float64\n"
     ]
    }
   ],
   "source": [
    "# Repayment Interval\n",
    "repayment_interval_distribution = data['repayment_interval'].value_counts(normalize=True)\n",
    "print(\"Repayment Interval Distribution:\")\n",
    "print(repayment_interval_distribution)"
   ]
  },
  {
   "cell_type": "code",
   "execution_count": 26,
   "metadata": {},
   "outputs": [
    {
     "name": "stdout",
     "output_type": "stream",
     "text": [
      "Average Lender Count per Loan: 20.590922296466804\n"
     ]
    }
   ],
   "source": [
    "# Lender Count\n",
    "lender_count = data.groupby('id')['lender_count'].max().mean()\n",
    "print(\"Average Lender Count per Loan:\", lender_count)"
   ]
  },
  {
   "cell_type": "code",
   "execution_count": 27,
   "metadata": {},
   "outputs": [
    {
     "data": {
      "text/html": [
       "\n",
       "        <iframe\n",
       "            width=\"100%\"\n",
       "            height=\"650\"\n",
       "            src=\"http://127.0.0.1:8060/\"\n",
       "            frameborder=\"0\"\n",
       "            allowfullscreen\n",
       "            \n",
       "        ></iframe>\n",
       "        "
      ],
      "text/plain": [
       "<IPython.lib.display.IFrame at 0x21d9d360a10>"
      ]
     },
     "metadata": {},
     "output_type": "display_data"
    }
   ],
   "source": [
    "\n",
    "\n",
    "# Initialize Dash app\n",
    "app = Dash(__name__)\n",
    "\n",
    "# Define layout\n",
    "app.layout = html.Div([\n",
    "    html.H1(\"Microfinance Loan Dashboard\"),\n",
    "    html.Label(\"Select visualization:\"),\n",
    "    dcc.Dropdown(\n",
    "        id='visualization-dropdown',\n",
    "        options=[\n",
    "            {'label': 'Loan Amount by Country', 'value': 'country'},\n",
    "            {'label': 'Loan Amount by Sector', 'value': 'sector'},\n",
    "            {'label': 'Loan Amount by Gender', 'value': 'gender'},\n",
    "            {'label': 'Distribution of Loan Amounts', 'value': 'distribution'}\n",
    "        ],\n",
    "        value='country'\n",
    "    ),\n",
    "    dcc.Graph(id='loan-visualization')\n",
    "])\n",
    "\n",
    "# Define callback to update graph based on dropdown selection\n",
    "@app.callback(\n",
    "    Output('loan-visualization', 'figure'),\n",
    "    [Input('visualization-dropdown', 'value')]\n",
    ")\n",
    "def update_graph(selected_option):\n",
    "    if selected_option == 'country':\n",
    "        loan_amount_by_country = data.groupby('country').agg({'loan_amount': 'sum'}).reset_index()\n",
    "        fig = go.Figure(go.Bar(x=loan_amount_by_country['country'], y=loan_amount_by_country['loan_amount'], \n",
    "                               marker_color='skyblue'))\n",
    "        fig.update_layout(xaxis_title=\"Country\", yaxis_title=\"Loan Amount\", title=\"Loan Amount by Country\")\n",
    "        return fig\n",
    "    elif selected_option == 'sector':\n",
    "        loan_amount_by_sector = data.groupby('sector').agg({'loan_amount': 'sum'}).reset_index()\n",
    "        fig = go.Figure(go.Bar(x=loan_amount_by_sector['sector'], y=loan_amount_by_sector['loan_amount'], \n",
    "                               marker_color='salmon'))\n",
    "        fig.update_layout(xaxis_title=\"Sector\", yaxis_title=\"Loan Amount\", title=\"Loan Amount by Sector\")\n",
    "        return fig\n",
    "    elif selected_option == 'gender':\n",
    "        loan_amount_by_gender = data.groupby('borrower_genders').agg({'loan_amount': 'sum'}).reset_index()\n",
    "        fig = go.Figure(go.Bar(x=loan_amount_by_gender['borrower_genders'], y=loan_amount_by_gender['loan_amount'], \n",
    "                               marker_color='lightgreen'))\n",
    "        fig.update_layout(xaxis_title=\"Gender\", yaxis_title=\"Loan Amount\", title=\"Loan Amount by Gender\")\n",
    "        return fig\n",
    "    elif selected_option == 'distribution':\n",
    "        fig = go.Figure(go.Histogram(x=data['loan_amount'], marker_color='orange'))\n",
    "        fig.update_layout(xaxis_title=\"Loan Amount\", yaxis_title=\"Count\", title=\"Distribution of Loan Amounts\")\n",
    "        return fig\n",
    "\n",
    "# Run the app\n",
    "if __name__ == '__main__':\n",
    "    app.run_server(debug=True, mode='inline', port=8060)\n",
    "    \n"
   ]
  }
 ],
 "metadata": {
  "kernelspec": {
   "display_name": "ds",
   "language": "python",
   "name": "python3"
  },
  "language_info": {
   "codemirror_mode": {
    "name": "ipython",
    "version": 3
   },
   "file_extension": ".py",
   "mimetype": "text/x-python",
   "name": "python",
   "nbconvert_exporter": "python",
   "pygments_lexer": "ipython3",
   "version": "3.11.9"
  }
 },
 "nbformat": 4,
 "nbformat_minor": 2
}
